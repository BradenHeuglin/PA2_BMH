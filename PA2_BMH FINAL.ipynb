{
 "cells": [
  {
   "cell_type": "markdown",
   "id": "d9fdb7d0",
   "metadata": {},
   "source": [
    "Append: The append function adds (appends) an element to a list of code. However, it only adds the new element to the end of the list"
   ]
  },
  {
   "cell_type": "code",
   "execution_count": 1,
   "id": "b339e1e8",
   "metadata": {},
   "outputs": [
    {
     "data": {
      "text/plain": [
       "[]"
      ]
     },
     "execution_count": 1,
     "metadata": {},
     "output_type": "execute_result"
    }
   ],
   "source": [
    "names=[]\n",
    "names"
   ]
  },
  {
   "cell_type": "code",
   "execution_count": 2,
   "id": "a5efa209",
   "metadata": {},
   "outputs": [
    {
     "data": {
      "text/plain": [
       "['Braden']"
      ]
     },
     "execution_count": 2,
     "metadata": {},
     "output_type": "execute_result"
    }
   ],
   "source": [
    "names.append('Braden')\n",
    "names"
   ]
  },
  {
   "cell_type": "code",
   "execution_count": 3,
   "id": "c47e5b01",
   "metadata": {},
   "outputs": [
    {
     "data": {
      "text/plain": [
       "['Braden', 'Carter']"
      ]
     },
     "execution_count": 3,
     "metadata": {},
     "output_type": "execute_result"
    }
   ],
   "source": [
    "names.append('Carter')\n",
    "names"
   ]
  },
  {
   "cell_type": "markdown",
   "id": "3a7180b4",
   "metadata": {},
   "source": [
    "Extend: The extend function adds all the elements of a list, tuple, string, etc., to the end of the list. It allows you to extend one list into another"
   ]
  },
  {
   "cell_type": "code",
   "execution_count": 4,
   "id": "48fa68cb",
   "metadata": {},
   "outputs": [
    {
     "data": {
      "text/plain": [
       "[2, 3, 5]"
      ]
     },
     "execution_count": 4,
     "metadata": {},
     "output_type": "execute_result"
    }
   ],
   "source": [
    "prime_numbers=[2,3,5]\n",
    "prime_numbers"
   ]
  },
  {
   "cell_type": "code",
   "execution_count": 5,
   "id": "2ca4546a",
   "metadata": {},
   "outputs": [
    {
     "data": {
      "text/plain": [
       "[1, 4, 6]"
      ]
     },
     "execution_count": 5,
     "metadata": {},
     "output_type": "execute_result"
    }
   ],
   "source": [
    "numbers=[1,4,6]\n",
    "numbers"
   ]
  },
  {
   "cell_type": "code",
   "execution_count": 6,
   "id": "34581a5d",
   "metadata": {},
   "outputs": [
    {
     "data": {
      "text/plain": [
       "[1, 4, 6, 2, 3, 5]"
      ]
     },
     "execution_count": 6,
     "metadata": {},
     "output_type": "execute_result"
    }
   ],
   "source": [
    "numbers.extend(prime_numbers)\n",
    "numbers"
   ]
  },
  {
   "cell_type": "markdown",
   "id": "23b8e790",
   "metadata": {},
   "source": [
    "Insert: The insert function adds (inserts) an element into a list. Unlike the append function, you can use the insert function to add a word or number anywhere in the list"
   ]
  },
  {
   "cell_type": "code",
   "execution_count": 7,
   "id": "6a0b246c",
   "metadata": {},
   "outputs": [
    {
     "data": {
      "text/plain": [
       "['Braden', 'Carter']"
      ]
     },
     "execution_count": 7,
     "metadata": {},
     "output_type": "execute_result"
    }
   ],
   "source": [
    "names=['Braden','Carter']\n",
    "names"
   ]
  },
  {
   "cell_type": "code",
   "execution_count": 8,
   "id": "026083eb",
   "metadata": {},
   "outputs": [
    {
     "data": {
      "text/plain": [
       "['Braden', 'Ethan', 'Carter']"
      ]
     },
     "execution_count": 8,
     "metadata": {},
     "output_type": "execute_result"
    }
   ],
   "source": [
    "names.insert(1, 'Ethan')\n",
    "names"
   ]
  },
  {
   "cell_type": "markdown",
   "id": "3c2884b8",
   "metadata": {},
   "source": [
    "Remove: The remove function gets rid of (removes) an element from a list, and allows you to remove an element from anywhere in the list, similar to the insert function"
   ]
  },
  {
   "cell_type": "code",
   "execution_count": 9,
   "id": "7d08c8d2",
   "metadata": {},
   "outputs": [
    {
     "data": {
      "text/plain": [
       "['Bugatti', 'Ferrari', 'Lamborghini', 'McLaren']"
      ]
     },
     "execution_count": 9,
     "metadata": {},
     "output_type": "execute_result"
    }
   ],
   "source": [
    "cars=['Bugatti','Ferrari','Lamborghini','McLaren']\n",
    "cars"
   ]
  },
  {
   "cell_type": "code",
   "execution_count": 10,
   "id": "18e3767f",
   "metadata": {},
   "outputs": [
    {
     "data": {
      "text/plain": [
       "['Bugatti', 'Lamborghini', 'McLaren']"
      ]
     },
     "execution_count": 10,
     "metadata": {},
     "output_type": "execute_result"
    }
   ],
   "source": [
    "cars.remove('Ferrari')\n",
    "cars"
   ]
  },
  {
   "cell_type": "markdown",
   "id": "41080fbd",
   "metadata": {},
   "source": [
    "Count: This function gives you the number of whichever element or elements you wish to find in a list"
   ]
  },
  {
   "cell_type": "code",
   "execution_count": 11,
   "id": "63e0fe31",
   "metadata": {},
   "outputs": [
    {
     "data": {
      "text/plain": [
       "1"
      ]
     },
     "execution_count": 11,
     "metadata": {},
     "output_type": "execute_result"
    }
   ],
   "source": [
    "vowels=['a','e','i','o','u']\n",
    "count=vowels.count('i')\n",
    "count"
   ]
  },
  {
   "cell_type": "markdown",
   "id": "d28c375a",
   "metadata": {},
   "source": [
    "Index: An index is a value given to an element in a list, starting from 0 (0 being the first element in the list)"
   ]
  },
  {
   "cell_type": "code",
   "execution_count": 12,
   "id": "c70f17be",
   "metadata": {},
   "outputs": [
    {
     "data": {
      "text/plain": [
       "['Bugatti', 'Ferrari', 'Lamborghini', 'McLaren']"
      ]
     },
     "execution_count": 12,
     "metadata": {},
     "output_type": "execute_result"
    }
   ],
   "source": [
    "cars=['Bugatti','Ferrari','Lamborghini','McLaren']\n",
    "cars"
   ]
  },
  {
   "cell_type": "code",
   "execution_count": 13,
   "id": "66744cf7",
   "metadata": {},
   "outputs": [
    {
     "data": {
      "text/plain": [
       "'Ferrari'"
      ]
     },
     "execution_count": 13,
     "metadata": {},
     "output_type": "execute_result"
    }
   ],
   "source": [
    "cars[1] # This will give me the output, 'Ferrari'"
   ]
  },
  {
   "cell_type": "code",
   "execution_count": 14,
   "id": "b42e1ceb",
   "metadata": {},
   "outputs": [
    {
     "data": {
      "text/plain": [
       "'McLaren'"
      ]
     },
     "execution_count": 14,
     "metadata": {},
     "output_type": "execute_result"
    }
   ],
   "source": [
    "cars[3] # This will give me the output, 'McLaren'"
   ]
  },
  {
   "cell_type": "markdown",
   "id": "8d4f9a1a",
   "metadata": {},
   "source": [
    "Pop: The pop function removes (pops) an element from a list. You can choose to remove whichever element you want to remove, by giving an index value"
   ]
  },
  {
   "cell_type": "code",
   "execution_count": 15,
   "id": "3d5f6ce5",
   "metadata": {},
   "outputs": [
    {
     "data": {
      "text/plain": [
       "['Bugatti', 'Ferrari', 'Lamborghini', 'McLaren']"
      ]
     },
     "execution_count": 15,
     "metadata": {},
     "output_type": "execute_result"
    }
   ],
   "source": [
    "cars=['Bugatti','Ferrari','Lamborghini','McLaren']\n",
    "cars"
   ]
  },
  {
   "cell_type": "code",
   "execution_count": 16,
   "id": "5878d22b",
   "metadata": {},
   "outputs": [
    {
     "data": {
      "text/plain": [
       "['Bugatti', 'Lamborghini', 'McLaren']"
      ]
     },
     "execution_count": 16,
     "metadata": {},
     "output_type": "execute_result"
    }
   ],
   "source": [
    "cars.pop(1) # This will delete 'Ferrari'\n",
    "cars"
   ]
  },
  {
   "cell_type": "markdown",
   "id": "2487f4e1",
   "metadata": {},
   "source": [
    "Sorted: The sorted function rearranges (sorts) a list in any way you tell it to. You can go from lowest to highest and vice versa, and alphabetical lowest to highest and vice versa"
   ]
  },
  {
   "cell_type": "code",
   "execution_count": 17,
   "id": "902e64b5",
   "metadata": {},
   "outputs": [
    {
     "data": {
      "text/plain": [
       "['Ferrari', 'Bugatti', 'McLaren', 'Lamborghini']"
      ]
     },
     "execution_count": 17,
     "metadata": {},
     "output_type": "execute_result"
    }
   ],
   "source": [
    "cars=['Ferrari','Bugatti','McLaren','Lamborghini']\n",
    "cars"
   ]
  },
  {
   "cell_type": "code",
   "execution_count": 18,
   "id": "447b7510",
   "metadata": {},
   "outputs": [
    {
     "data": {
      "text/plain": [
       "['Bugatti', 'Ferrari', 'Lamborghini', 'McLaren']"
      ]
     },
     "execution_count": 18,
     "metadata": {},
     "output_type": "execute_result"
    }
   ],
   "source": [
    "cars.sort()\n",
    "cars"
   ]
  },
  {
   "cell_type": "code",
   "execution_count": 19,
   "id": "e81faede",
   "metadata": {},
   "outputs": [
    {
     "data": {
      "text/plain": [
       "['McLaren', 'Lamborghini', 'Ferrari', 'Bugatti']"
      ]
     },
     "execution_count": 19,
     "metadata": {},
     "output_type": "execute_result"
    }
   ],
   "source": [
    "cars.sort(reverse=True)\n",
    "cars"
   ]
  },
  {
   "cell_type": "markdown",
   "id": "5fe58bf8",
   "metadata": {},
   "source": [
    "Copy: Copying allows you to transfer a line or lines of code quickly by highlighting the code you wish to copy, pressing 'ctrl c' to copy, going to the code line you wish to paste it to, and pressing 'ctrl v' to paste it"
   ]
  },
  {
   "cell_type": "code",
   "execution_count": 20,
   "id": "5a2e25a2",
   "metadata": {},
   "outputs": [
    {
     "data": {
      "text/plain": [
       "['Ferrari', 'Bugatti', 'McLaren', 'Lamborghini']"
      ]
     },
     "execution_count": 20,
     "metadata": {},
     "output_type": "execute_result"
    }
   ],
   "source": [
    "cars=['Ferrari','Bugatti','McLaren','Lamborghini'] # I used control c and control v to copy and paste this line of code from a previous code cell\n",
    "cars"
   ]
  },
  {
   "cell_type": "markdown",
   "id": "2b6cec42",
   "metadata": {},
   "source": [
    "Clear: Clearing allows you to remove a code cell quickly. You can do this by clicking on the code cell you wish t clear, clicking on 'cell' at the top of the page, 'current outputs', and 'clear'"
   ]
  },
  {
   "cell_type": "markdown",
   "id": "97ddd5e4",
   "metadata": {},
   "source": [
    "List: The list function organizes a series of elements, from numbers to words, and can include both. Many functions can be applied to lists to give various outputs, such as finding the number of elements in a list, the max value, and min value are a few examples"
   ]
  },
  {
   "cell_type": "code",
   "execution_count": 21,
   "id": "e1d32b5e",
   "metadata": {},
   "outputs": [
    {
     "data": {
      "text/plain": [
       "['Bugatti', 'Ferrari', 'Lamborghini', 'McLaren']"
      ]
     },
     "execution_count": 21,
     "metadata": {},
     "output_type": "execute_result"
    }
   ],
   "source": [
    "cars=['Bugatti','Ferrari','Lamborghini','McLaren']\n",
    "cars"
   ]
  },
  {
   "cell_type": "markdown",
   "id": "2227566d",
   "metadata": {},
   "source": [
    "Len: The len function gives you the length of the code, it tells you how many letters and spaces are in a line of code"
   ]
  },
  {
   "cell_type": "code",
   "execution_count": 22,
   "id": "6635a872",
   "metadata": {},
   "outputs": [
    {
     "data": {
      "text/plain": [
       "['Bugatti', 'Ferrari', 'Lamborghini', 'McLaren']"
      ]
     },
     "execution_count": 22,
     "metadata": {},
     "output_type": "execute_result"
    }
   ],
   "source": [
    "cars=['Bugatti','Ferrari','Lamborghini','McLaren']\n",
    "cars"
   ]
  },
  {
   "cell_type": "code",
   "execution_count": 23,
   "id": "b2a89dfd",
   "metadata": {},
   "outputs": [
    {
     "data": {
      "text/plain": [
       "4"
      ]
     },
     "execution_count": 23,
     "metadata": {},
     "output_type": "execute_result"
    }
   ],
   "source": [
    "len(cars)"
   ]
  },
  {
   "cell_type": "markdown",
   "id": "c21531b2",
   "metadata": {},
   "source": [
    "Max: The max function gives you either the highest number in a list, or the highest word. The highest word goes from a-z, a being the lowest and z the highest, and A-Z, A being the lowest and Z the highest. The lower case letters are higher than the upper case letters, so lower case ‘z’ is the highest, and the upper case ‘A’ is the lowest"
   ]
  },
  {
   "cell_type": "code",
   "execution_count": 24,
   "id": "9dd2f976",
   "metadata": {},
   "outputs": [
    {
     "data": {
      "text/plain": [
       "[3, 7, 12, 17, 23, 40]"
      ]
     },
     "execution_count": 24,
     "metadata": {},
     "output_type": "execute_result"
    }
   ],
   "source": [
    "numbers=[3,7,12,17,23,40]\n",
    "numbers"
   ]
  },
  {
   "cell_type": "code",
   "execution_count": 25,
   "id": "c52be6aa",
   "metadata": {},
   "outputs": [
    {
     "data": {
      "text/plain": [
       "40"
      ]
     },
     "execution_count": 25,
     "metadata": {},
     "output_type": "execute_result"
    }
   ],
   "source": [
    "max(numbers)"
   ]
  },
  {
   "cell_type": "markdown",
   "id": "6d7dff87",
   "metadata": {},
   "source": [
    "Min: The min function gives you either the lowest number in a list, or the lowest word. The lowest word goes from a-z, a being the lowest and z the highest, and A-Z, A being the lowest and Z the highest. The lower case letters are higher than the upper case letters, so lower case ‘z’ is the highest, and the upper case ‘A’ is the lowest"
   ]
  },
  {
   "cell_type": "code",
   "execution_count": 26,
   "id": "3fd43061",
   "metadata": {},
   "outputs": [
    {
     "data": {
      "text/plain": [
       "[3, 7, 12, 17, 23, 40]"
      ]
     },
     "execution_count": 26,
     "metadata": {},
     "output_type": "execute_result"
    }
   ],
   "source": [
    "numbers=[3,7,12,17,23,40]\n",
    "numbers"
   ]
  },
  {
   "cell_type": "code",
   "execution_count": 27,
   "id": "3da3a084",
   "metadata": {},
   "outputs": [
    {
     "data": {
      "text/plain": [
       "3"
      ]
     },
     "execution_count": 27,
     "metadata": {},
     "output_type": "execute_result"
    }
   ],
   "source": [
    "min(numbers)"
   ]
  },
  {
   "cell_type": "markdown",
   "id": "20a6562c",
   "metadata": {},
   "source": [
    "# PA2: Working with Lists and Tuples\n",
    "## Braden Heuglin\n",
    "### Version 1\n",
    "#### Fall Semester 2022: CS 150-01"
   ]
  },
  {
   "cell_type": "markdown",
   "id": "0b53e17c",
   "metadata": {},
   "source": [
    "## Extra Credit at the end of the assignment"
   ]
  },
  {
   "cell_type": "code",
   "execution_count": 28,
   "id": "6c6436cd",
   "metadata": {},
   "outputs": [
    {
     "data": {
      "text/plain": [
       "('Braden', 'Soccer', 17)"
      ]
     },
     "execution_count": 28,
     "metadata": {},
     "output_type": "execute_result"
    }
   ],
   "source": [
    "rotate=('Braden','Soccer',17)\n",
    "rotate"
   ]
  },
  {
   "cell_type": "code",
   "execution_count": 29,
   "id": "4fc10cfa",
   "metadata": {},
   "outputs": [
    {
     "data": {
      "text/plain": [
       "tuple"
      ]
     },
     "execution_count": 29,
     "metadata": {},
     "output_type": "execute_result"
    }
   ],
   "source": [
    "type(rotate)"
   ]
  },
  {
   "cell_type": "code",
   "execution_count": 30,
   "id": "f0de7a7e",
   "metadata": {},
   "outputs": [],
   "source": [
    "name, sport, number = rotate"
   ]
  },
  {
   "cell_type": "code",
   "execution_count": 31,
   "id": "02cf2a90",
   "metadata": {},
   "outputs": [
    {
     "data": {
      "text/plain": [
       "'Braden'"
      ]
     },
     "execution_count": 31,
     "metadata": {},
     "output_type": "execute_result"
    }
   ],
   "source": [
    "name"
   ]
  },
  {
   "cell_type": "code",
   "execution_count": 32,
   "id": "bc7ce8be",
   "metadata": {},
   "outputs": [
    {
     "data": {
      "text/plain": [
       "'Soccer'"
      ]
     },
     "execution_count": 32,
     "metadata": {},
     "output_type": "execute_result"
    }
   ],
   "source": [
    "sport"
   ]
  },
  {
   "cell_type": "code",
   "execution_count": 33,
   "id": "c3962109",
   "metadata": {},
   "outputs": [
    {
     "data": {
      "text/plain": [
       "17"
      ]
     },
     "execution_count": 33,
     "metadata": {},
     "output_type": "execute_result"
    }
   ],
   "source": [
    "number"
   ]
  }
 ],
 "metadata": {
  "kernelspec": {
   "display_name": "Python 3 (ipykernel)",
   "language": "python",
   "name": "python3"
  },
  "language_info": {
   "codemirror_mode": {
    "name": "ipython",
    "version": 3
   },
   "file_extension": ".py",
   "mimetype": "text/x-python",
   "name": "python",
   "nbconvert_exporter": "python",
   "pygments_lexer": "ipython3",
   "version": "3.9.12"
  }
 },
 "nbformat": 4,
 "nbformat_minor": 5
}
